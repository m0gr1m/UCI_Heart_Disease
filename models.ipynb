{
 "cells": [
  {
   "cell_type": "code",
   "execution_count": 45,
   "metadata": {
    "collapsed": true
   },
   "outputs": [],
   "source": [
    "# Packages\n",
    "\n",
    "import pandas as pd\n",
    "import numpy as np\n",
    "import matplotlib.pyplot as plt\n",
    "import seaborn as sns\n",
    "from sklearn.model_selection import train_test_split, cross_val_score\n",
    "from sklearn.preprocessing import StandardScaler, OneHotEncoder\n",
    "from sklearn.compose import make_column_transformer\n",
    "from sklearn.pipeline import Pipeline\n",
    "from sklearn.metrics import precision_score, recall_score\n",
    "from sklearn.neighbors import KNeighborsClassifier\n",
    "from sklearn.tree import DecisionTreeClassifier"
   ]
  },
  {
   "cell_type": "code",
   "execution_count": 4,
   "outputs": [],
   "source": [
    "# Data loading\n",
    "\n",
    "df1 = pd.read_csv(\"C:/Users/chole/Desktop/UCI_Heart_Disease/df_1.csv\")\n",
    "df2 = pd.read_csv(\"C:/Users/chole/Desktop/UCI_Heart_Disease/df_2.csv\")\n",
    "\n",
    "# Data split\n",
    "\n",
    "X1 = df1.drop(columns=\"num\")\n",
    "y1 = df1.num\n",
    "\n",
    "X2 = df2.drop(columns=\"num\")\n",
    "y2 = df2.num\n",
    "\n",
    "X1_train, X1_test, y1_train, y1_test = train_test_split(X1, y1,\n",
    "                                                        test_size=0.2,\n",
    "                                                        random_state=42)\n",
    "\n",
    "X2_train, X2_test, y2_train, y2_test = train_test_split(X2, y2,\n",
    "                                                        test_size=0.2,\n",
    "                                                        random_state=42)"
   ],
   "metadata": {
    "collapsed": false,
    "pycharm": {
     "name": "#%%\n"
    }
   }
  },
  {
   "cell_type": "code",
   "execution_count": 5,
   "outputs": [],
   "source": [
    "# Column transformer for df1 and df2\n",
    "\n",
    "column_t_1 = make_column_transformer(\n",
    "    (OneHotEncoder(drop=\"if_binary\"), [\"sex\", \"cp\", \"dataset\", \"fbs\", \"restecg\", \"exang\", \"slope\"]),\n",
    "    (StandardScaler(), [\"age\", \"trestbps\", \"chol\", \"thalch\", \"oldpeak\"]),\n",
    "    remainder=\"passthrough\"\n",
    ")\n",
    "\n",
    "column_t_2 = make_column_transformer(\n",
    "    (OneHotEncoder(drop=\"if_binary\"), [\"sex\", \"cp\", \"dataset\", \"fbs\", \"restecg\", \"exang\"]),\n",
    "    (StandardScaler(), [\"age\", \"trestbps\", \"chol\", \"thalch\", \"oldpeak\"]),\n",
    "    remainder=\"passthrough\"\n",
    ")\n"
   ],
   "metadata": {
    "collapsed": false,
    "pycharm": {
     "name": "#%%\n"
    }
   }
  },
  {
   "cell_type": "code",
   "execution_count": 23,
   "outputs": [
    {
     "name": "stdout",
     "output_type": "stream",
     "text": [
      "kNN: 0.620095 (0.038526)\n",
      "Tree: 0.628186 (0.038516)\n"
     ]
    },
    {
     "data": {
      "text/plain": "<Figure size 576x288 with 1 Axes>",
      "image/png": "[encoded data removed]"
     },
     "metadata": {
      "needs_background": "light"
     },
     "output_type": "display_data"
    }
   ],
   "source": [
    "# Models Dict\n",
    "\n",
    "models = {\"kNN\": KNeighborsClassifier(n_neighbors=5),\n",
    "          \"Tree\": DecisionTreeClassifier()}\n",
    "\n",
    "# Lists for results stores\n",
    "\n",
    "names = []\n",
    "results = []\n",
    "\n",
    "# Loop through models\n",
    "\n",
    "for name, model in models.items():\n",
    "    pipe = Pipeline([\n",
    "        (\"preProc\", column_t_2),\n",
    "        (\"model\", model)\n",
    "    ])\n",
    "\n",
    "    cv_res = cross_val_score(pipe, X2_train, y2_train, cv=10, scoring=\"accuracy\")\n",
    "\n",
    "    results.append(cv_res)\n",
    "    names.append(name)\n",
    "    print(\"%s: %f (%f)\" % (name, cv_res.mean(), cv_res.std()))\n",
    "\n",
    "# boxplot algorithm comparison\n",
    "plt.rcParams['figure.figsize'] = [8, 4]\n",
    "fig = plt.figure()\n",
    "fig.suptitle('Algorithm Comparison')\n",
    "ax = fig.add_subplot(111)  # all on the same box\n",
    "plt.boxplot(results)\n",
    "ax.set_xticklabels(names)\n",
    "plt.ylim(0, 1)\n",
    "plt.show()"
   ],
   "metadata": {
    "collapsed": false,
    "pycharm": {
     "name": "#%%\n"
    }
   }
  },
  {
   "cell_type": "code",
   "execution_count": 33,
   "outputs": [],
   "source": [
    "knn = KNeighborsClassifier(n_neighbors=5)\n",
    "\n",
    "pipe = Pipeline([\n",
    "    (\"preProc\", column_t_1),\n",
    "    (\"model\", knn)\n",
    "]).fit(X1_train,y1_train)"
   ],
   "metadata": {
    "collapsed": false,
    "pycharm": {
     "name": "#%%\n"
    }
   }
  },
  {
   "cell_type": "code",
   "execution_count": 34,
   "outputs": [
    {
     "data": {
      "text/plain": "array([0.6779661 , 0.58064516, 0.3       , 0.42857143, 0.        ])"
     },
     "execution_count": 34,
     "metadata": {},
     "output_type": "execute_result"
    }
   ],
   "source": [
    "pred = pipe.predict(X1_test)\n",
    "precision_score(y1_test,pred, average=None)"
   ],
   "metadata": {
    "collapsed": false,
    "pycharm": {
     "name": "#%%\n"
    }
   }
  },
  {
   "cell_type": "code",
   "execution_count": 47,
   "outputs": [
    {
     "data": {
      "text/plain": "array([0.86956522, 0.58064516, 0.25      , 0.1875    , 0.        ])"
     },
     "execution_count": 47,
     "metadata": {},
     "output_type": "execute_result"
    }
   ],
   "source": [
    "recall_score(y1_test, pred, average=None)"
   ],
   "metadata": {
    "collapsed": false,
    "pycharm": {
     "name": "#%%\n"
    }
   }
  }
 ],
 "metadata": {
  "kernelspec": {
   "display_name": "Python 3",
   "language": "python",
   "name": "python3"
  },
  "language_info": {
   "codemirror_mode": {
    "name": "ipython",
    "version": 2
   },
   "file_extension": ".py",
   "mimetype": "text/x-python",
   "name": "python",
   "nbconvert_exporter": "python",
   "pygments_lexer": "ipython2",
   "version": "2.7.6"
  }
 },
 "nbformat": 4,
 "nbformat_minor": 0
}